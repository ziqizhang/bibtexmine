{
 "cells": [
  {
   "cell_type": "code",
   "execution_count": 1,
   "metadata": {},
   "outputs": [],
   "source": [
    "import json\n",
    "import requests\n",
    "from crossref.restful import Works, Journals\n",
    "from habanero import Crossref\n",
    "import os.path\n",
    "import re\n",
    "\n",
    "\n",
    "works = Works()\n",
    "journals = Journals()\n",
    "cr = Crossref()"
   ]
  },
  {
   "cell_type": "code",
   "execution_count": null,
   "metadata": {},
   "outputs": [],
   "source": [
    "res = cr.journals(ids = \"0740-8188\", works =True,\n",
    "                filter = {'has_full_text':True, 'type': 'journal-article',\n",
    "                          'from-pub-date':'2008-01-01', 'until-pub-date':'2018-01-01'},\n",
    "                sort='issued',\n",
    "                cursor='*',\n",
    "                cursor_max=5,\n",
    "                limit=200)"
   ]
  },
  {
   "cell_type": "code",
   "execution_count": null,
   "metadata": {},
   "outputs": [],
   "source": [
    "x = ' of library information desks'\n",
    "y = '?12Some Numbers and ? Spaces  Here'\n",
    "# print(x[:85])\n",
    "print(re.sub('[^A-Za-z0-9]+', '    ', y))"
   ]
  },
  {
   "cell_type": "code",
   "execution_count": null,
   "metadata": {
    "scrolled": false
   },
   "outputs": [],
   "source": [
    "# x = res['message'].get('next-cursor')\n",
    "# print(x)\n",
    "next_cursor = '*'\n",
    "def searchJournals(next_cursor):\n",
    "        res = cr.journals(ids = \"0740-8188\", works =True,\n",
    "                filter = {'has_full_text':True, 'type': 'journal-article',\n",
    "                          'from-pub-date':'2008-01-01', 'until-pub-date':'2008-05-05'},\n",
    "                sort='issued',\n",
    "                cursor=next_cursor,\n",
    "                cursor_max=2,\n",
    "                limit=50)\n",
    "        \n",
    "        next_cursor = res['message'].get('next-cursor')\n",
    "        print([x.get('title')for x in res['message']['items']])\n",
    "        print(next_cursor)\n",
    "        searchJournals(next_cursor)\n",
    "\n",
    "searchJournals(next_cursor)\n",
    "\n"
   ]
  },
  {
   "cell_type": "code",
   "execution_count": null,
   "metadata": {},
   "outputs": [],
   "source": []
  },
  {
   "cell_type": "code",
   "execution_count": null,
   "metadata": {},
   "outputs": [],
   "source": [
    "titles = [ x.get('title')for x in res['message']['items'] ]\n",
    "# for x in res['message']['items']:\n",
    "#     print (len(x))\n",
    "items = [ z['message']['items'] for z in res ]\n",
    "# print (len(res['message']['items']))\n",
    "# sum([ len(z[0]['message']['items']) for z in res])"
   ]
  },
  {
   "cell_type": "code",
   "execution_count": null,
   "metadata": {},
   "outputs": [],
   "source": [
    "items = [ z['message']['items'] for z in res]"
   ]
  },
  {
   "cell_type": "code",
   "execution_count": null,
   "metadata": {
    "scrolled": true
   },
   "outputs": [],
   "source": [
    "items = [ item for sublist in items for item in sublist ]\n",
    "[ z['DOI'] for z in items][0:50]"
   ]
  },
  {
   "cell_type": "code",
   "execution_count": null,
   "metadata": {},
   "outputs": [],
   "source": [
    "count = 0\n",
    "global_count = 0"
   ]
  },
  {
   "cell_type": "code",
   "execution_count": null,
   "metadata": {},
   "outputs": [],
   "source": [
    "# for i in x['message']['items']:\n",
    "#     count += 1\n",
    "#     global_count += 1\n",
    "#     if(count==20):\n",
    "#         count = 0\n",
    "#     print(str(x['message']['items'][count-1]['title'][0]))\n",
    "    # filename_txt = str(x['message']['items'][count]['title'][0])+\".txt\""
   ]
  },
  {
   "cell_type": "code",
   "execution_count": null,
   "metadata": {},
   "outputs": [],
   "source": [
    "print(count)"
   ]
  },
  {
   "cell_type": "code",
   "execution_count": null,
   "metadata": {},
   "outputs": [],
   "source": [
    "res = cr.funders(ids = '10.13039/100000001', works =True, cursor = \"*\", limit = 200)"
   ]
  },
  {
   "cell_type": "code",
   "execution_count": null,
   "metadata": {},
   "outputs": [],
   "source": [
    "# Test below"
   ]
  },
  {
   "cell_type": "code",
   "execution_count": null,
   "metadata": {},
   "outputs": [],
   "source": [
    "x = cr.journals(ids = \"0740-8188\", works =True,\n",
    "                filter = {'has_full_text':True, 'type': 'journal-article', 'from-pub-date':'2008-01-01', 'until-pub-date':'2018-01-01'},\n",
    "                sort='issued',\n",
    "                rows=20)"
   ]
  },
  {
   "cell_type": "code",
   "execution_count": 69,
   "metadata": {},
   "outputs": [],
   "source": [
    "# count = 0\n",
    "# for i in x['message']['items']:\n",
    "\n",
    "#     # get the title and remove any special characters and spaces\n",
    "# #     title = re.sub('[^A-Za-z0-9]+', '', str(x['message']['items'][count]['title'][0])[:85])\n",
    "# #     count += 1\n",
    "#     title = i.get('title')\n",
    "#     print(title)\n",
    "\n",
    "# Now using 2nd\n",
    "x = cr.journals(ids = \"2330-1643\", works =True,\n",
    "                filter = {'has_full_text':True, 'type': 'journal-article', 'from-pub-date':'2018-01-01', 'until-pub-date':'2019-01-01'},\n",
    "                sort='issued',\n",
    "                cursor='*',\n",
    "                limit=20)"
   ]
  },
  {
   "cell_type": "code",
   "execution_count": 70,
   "metadata": {
    "scrolled": true
   },
   "outputs": [
    {
     "name": "stdout",
     "output_type": "stream",
     "text": [
      "total results >>>>>>>>>  29\n"
     ]
    }
   ],
   "source": [
    "# TO BE DELETED\n",
    "count = 0\n",
    "articles_count = 0\n",
    "my_list = []\n",
    "total_results = x[0]['message'].get('total-results')\n",
    "print('total results >>>>>>>>> ' , total_results)\n",
    "# print(x)\n",
    "\n",
    "\n",
    "# while (articles_count < total_results):\n",
    "# for i in x[0]['message']['items']:\n",
    "    # get the title and remove any special characters, keep spaces\n",
    "    # title = re.sub('[^A-Za-z0-9]+', '', str(x['message']['items'][count]['title'][0])[:85])\n",
    "#     articles_count += 1\n",
    "#     print(\"Article \", articles_count, \" out of \", total_results)\n",
    "    # print(title)\n",
    "    # print(count)\n",
    "    # print(articles_count)\n",
    "#     total_articles = len(i.get('title')[0])\n",
    "\n",
    "#     title = re.sub('[^A-Za-z0-9]+', ' ', (i.get('title')[0]))\n",
    "#     filename_xml = \"E:exported_data\\\\\" + title + \".xml\"\n",
    "#     filename_txt = \"E:exported_data\\\\\" + title + \".txt\"\n",
    "\n",
    "    # at index 0, the api returns nothing, so file 'empty' is just a placeholder\n",
    "#     if count == 0:\n",
    "#         filename_txt = \"empty\"\n",
    "#         filename_xml = \"empty\"\n",
    "\n",
    "#     response_xml = requests.get(i['link'][0]['URL'])\n",
    "#     response_plain = requests.get((i['link'][1]['URL']) + '&apiKey=b684247455499a187b0a57ee9da18a5b')\n",
    "\n",
    "    # save the content from the xml link into a .xml file\n",
    "#     with open((filename_xml), 'wb+') as file:\n",
    "#         if (response_xml.ok):\n",
    "#             # print(i['link'][1]['URL'])\n",
    "#             file.write(response_xml.content)\n",
    "    # save the content from the text/plain link into a .txt file\n",
    "#     with open((filename_txt), 'wb') as file:\n",
    "#         if (response_plain.ok):\n",
    "#             # print(i['link'][1]['URL'])\n",
    "#             file.write(response_plain.content)\n",
    "# count += 1\n",
    "\n"
   ]
  },
  {
   "cell_type": "code",
   "execution_count": 64,
   "metadata": {},
   "outputs": [
    {
     "name": "stdout",
     "output_type": "stream",
     "text": [
      "total results >>>>>>>>>  29\n",
      "[{'URL': 'https://api.wiley.com/onlinelibrary/tdm/v1/articles/10.1002%2Fasi.24102', 'content-type': 'application/pdf', 'content-version': 'vor', 'intended-application': 'text-mining'}, {'URL': 'https://onlinelibrary.wiley.com/doi/pdf/10.1002/asi.24102', 'content-type': 'application/pdf', 'content-version': 'vor', 'intended-application': 'text-mining'}, {'URL': 'https://onlinelibrary.wiley.com/doi/full-xml/10.1002/asi.24102', 'content-type': 'application/xml', 'content-version': 'vor', 'intended-application': 'text-mining'}, {'URL': 'https://onlinelibrary.wiley.com/doi/pdf/10.1002/asi.24102', 'content-type': 'unspecified', 'content-version': 'vor', 'intended-application': 'similarity-checking'}]\n",
      "[{'URL': 'https://api.wiley.com/onlinelibrary/tdm/v1/articles/10.1002%2Fasi.24108', 'content-type': 'application/pdf', 'content-version': 'vor', 'intended-application': 'text-mining'}, {'URL': 'https://onlinelibrary.wiley.com/doi/pdf/10.1002/asi.24108', 'content-type': 'application/pdf', 'content-version': 'vor', 'intended-application': 'text-mining'}, {'URL': 'https://onlinelibrary.wiley.com/doi/full-xml/10.1002/asi.24108', 'content-type': 'application/xml', 'content-version': 'vor', 'intended-application': 'text-mining'}, {'URL': 'https://onlinelibrary.wiley.com/doi/pdf/10.1002/asi.24108', 'content-type': 'unspecified', 'content-version': 'vor', 'intended-application': 'similarity-checking'}]\n",
      "[{'URL': 'https://api.wiley.com/onlinelibrary/tdm/v1/articles/10.1002%2Fasi.24126', 'content-type': 'application/pdf', 'content-version': 'vor', 'intended-application': 'text-mining'}, {'URL': 'https://onlinelibrary.wiley.com/doi/pdf/10.1002/asi.24126', 'content-type': 'application/pdf', 'content-version': 'vor', 'intended-application': 'text-mining'}, {'URL': 'https://onlinelibrary.wiley.com/doi/full-xml/10.1002/asi.24126', 'content-type': 'application/xml', 'content-version': 'vor', 'intended-application': 'text-mining'}, {'URL': 'https://onlinelibrary.wiley.com/doi/pdf/10.1002/asi.24126', 'content-type': 'unspecified', 'content-version': 'vor', 'intended-application': 'similarity-checking'}]\n",
      "[{'URL': 'https://api.wiley.com/onlinelibrary/tdm/v1/articles/10.1002%2Fasi.24147', 'content-type': 'application/pdf', 'content-version': 'vor', 'intended-application': 'text-mining'}, {'URL': 'https://onlinelibrary.wiley.com/doi/pdf/10.1002/asi.24147', 'content-type': 'application/pdf', 'content-version': 'vor', 'intended-application': 'text-mining'}, {'URL': 'https://onlinelibrary.wiley.com/doi/full-xml/10.1002/asi.24147', 'content-type': 'application/xml', 'content-version': 'vor', 'intended-application': 'text-mining'}, {'URL': 'https://onlinelibrary.wiley.com/doi/am-pdf/10.1002/asi.24147', 'content-type': 'application/pdf', 'content-version': 'am', 'intended-application': 'syndication'}, {'URL': 'https://onlinelibrary.wiley.com/doi/pdf/10.1002/asi.24147', 'content-type': 'unspecified', 'content-version': 'vor', 'intended-application': 'similarity-checking'}]\n",
      "[{'URL': 'https://api.wiley.com/onlinelibrary/tdm/v1/articles/10.1002%2Fasi.24129', 'content-type': 'application/pdf', 'content-version': 'vor', 'intended-application': 'text-mining'}, {'URL': 'https://onlinelibrary.wiley.com/doi/pdf/10.1002/asi.24129', 'content-type': 'application/pdf', 'content-version': 'vor', 'intended-application': 'text-mining'}, {'URL': 'https://onlinelibrary.wiley.com/doi/full-xml/10.1002/asi.24129', 'content-type': 'application/xml', 'content-version': 'vor', 'intended-application': 'text-mining'}, {'URL': 'https://onlinelibrary.wiley.com/doi/pdf/10.1002/asi.24129', 'content-type': 'unspecified', 'content-version': 'vor', 'intended-application': 'similarity-checking'}]\n",
      "[{'URL': 'https://onlinelibrary.wiley.com/doi/pdf/10.1002/asi.24084', 'content-type': 'application/pdf', 'content-version': 'vor', 'intended-application': 'text-mining'}, {'URL': 'https://onlinelibrary.wiley.com/doi/pdf/10.1002/asi.24084', 'content-type': 'unspecified', 'content-version': 'vor', 'intended-application': 'similarity-checking'}]\n",
      "[{'URL': 'https://onlinelibrary.wiley.com/doi/pdf/10.1002/asi.24187', 'content-type': 'application/pdf', 'content-version': 'vor', 'intended-application': 'text-mining'}, {'URL': 'https://onlinelibrary.wiley.com/doi/pdf/10.1002/asi.24187', 'content-type': 'unspecified', 'content-version': 'vor', 'intended-application': 'similarity-checking'}]\n",
      "[{'URL': 'https://api.wiley.com/onlinelibrary/tdm/v1/articles/10.1002%2Fasi.24099', 'content-type': 'application/pdf', 'content-version': 'vor', 'intended-application': 'text-mining'}, {'URL': 'https://onlinelibrary.wiley.com/doi/pdf/10.1002/asi.24099', 'content-type': 'application/pdf', 'content-version': 'vor', 'intended-application': 'text-mining'}, {'URL': 'https://onlinelibrary.wiley.com/doi/full-xml/10.1002/asi.24099', 'content-type': 'application/xml', 'content-version': 'vor', 'intended-application': 'text-mining'}, {'URL': 'https://onlinelibrary.wiley.com/doi/pdf/10.1002/asi.24099', 'content-type': 'unspecified', 'content-version': 'vor', 'intended-application': 'similarity-checking'}]\n",
      "[{'URL': 'https://api.wiley.com/onlinelibrary/tdm/v1/articles/10.1002%2Fasi.24132', 'content-type': 'application/pdf', 'content-version': 'vor', 'intended-application': 'text-mining'}, {'URL': 'https://onlinelibrary.wiley.com/doi/pdf/10.1002/asi.24132', 'content-type': 'application/pdf', 'content-version': 'vor', 'intended-application': 'text-mining'}, {'URL': 'https://onlinelibrary.wiley.com/doi/full-xml/10.1002/asi.24132', 'content-type': 'application/xml', 'content-version': 'vor', 'intended-application': 'text-mining'}, {'URL': 'https://onlinelibrary.wiley.com/doi/pdf/10.1002/asi.24132', 'content-type': 'unspecified', 'content-version': 'vor', 'intended-application': 'similarity-checking'}]\n",
      "[{'URL': 'https://api.wiley.com/onlinelibrary/tdm/v1/articles/10.1002%2Fasi.24118', 'content-type': 'application/pdf', 'content-version': 'vor', 'intended-application': 'text-mining'}, {'URL': 'https://onlinelibrary.wiley.com/doi/pdf/10.1002/asi.24118', 'content-type': 'application/pdf', 'content-version': 'vor', 'intended-application': 'text-mining'}, {'URL': 'https://onlinelibrary.wiley.com/doi/full-xml/10.1002/asi.24118', 'content-type': 'application/xml', 'content-version': 'vor', 'intended-application': 'text-mining'}, {'URL': 'https://onlinelibrary.wiley.com/doi/pdf/10.1002/asi.24118', 'content-type': 'unspecified', 'content-version': 'vor', 'intended-application': 'similarity-checking'}]\n",
      "[{'URL': 'https://api.wiley.com/onlinelibrary/tdm/v1/articles/10.1002%2Fasi.24112', 'content-type': 'application/pdf', 'content-version': 'vor', 'intended-application': 'text-mining'}, {'URL': 'https://onlinelibrary.wiley.com/doi/pdf/10.1002/asi.24112', 'content-type': 'application/pdf', 'content-version': 'vor', 'intended-application': 'text-mining'}, {'URL': 'https://onlinelibrary.wiley.com/doi/full-xml/10.1002/asi.24112', 'content-type': 'application/xml', 'content-version': 'vor', 'intended-application': 'text-mining'}, {'URL': 'https://onlinelibrary.wiley.com/doi/pdf/10.1002/asi.24112', 'content-type': 'unspecified', 'content-version': 'vor', 'intended-application': 'similarity-checking'}]\n",
      "[{'URL': 'https://api.wiley.com/onlinelibrary/tdm/v1/articles/10.1002%2Fasi.24120', 'content-type': 'application/pdf', 'content-version': 'vor', 'intended-application': 'text-mining'}, {'URL': 'https://onlinelibrary.wiley.com/doi/pdf/10.1002/asi.24120', 'content-type': 'application/pdf', 'content-version': 'vor', 'intended-application': 'text-mining'}, {'URL': 'https://onlinelibrary.wiley.com/doi/full-xml/10.1002/asi.24120', 'content-type': 'application/xml', 'content-version': 'vor', 'intended-application': 'text-mining'}, {'URL': 'https://onlinelibrary.wiley.com/doi/pdf/10.1002/asi.24120', 'content-type': 'unspecified', 'content-version': 'vor', 'intended-application': 'similarity-checking'}]\n",
      "[{'URL': 'https://api.wiley.com/onlinelibrary/tdm/v1/articles/10.1002%2Fasi.24083', 'content-type': 'application/pdf', 'content-version': 'vor', 'intended-application': 'text-mining'}, {'URL': 'https://onlinelibrary.wiley.com/doi/pdf/10.1002/asi.24083', 'content-type': 'application/pdf', 'content-version': 'vor', 'intended-application': 'text-mining'}, {'URL': 'https://onlinelibrary.wiley.com/doi/full-xml/10.1002/asi.24083', 'content-type': 'application/xml', 'content-version': 'vor', 'intended-application': 'text-mining'}, {'URL': 'https://onlinelibrary.wiley.com/doi/pdf/10.1002/asi.24083', 'content-type': 'unspecified', 'content-version': 'vor', 'intended-application': 'similarity-checking'}]\n",
      "[{'URL': 'https://api.wiley.com/onlinelibrary/tdm/v1/articles/10.1002%2Fasi.24122', 'content-type': 'application/pdf', 'content-version': 'vor', 'intended-application': 'text-mining'}, {'URL': 'https://onlinelibrary.wiley.com/doi/pdf/10.1002/asi.24122', 'content-type': 'application/pdf', 'content-version': 'vor', 'intended-application': 'text-mining'}, {'URL': 'https://onlinelibrary.wiley.com/doi/full-xml/10.1002/asi.24122', 'content-type': 'application/xml', 'content-version': 'vor', 'intended-application': 'text-mining'}, {'URL': 'https://onlinelibrary.wiley.com/doi/pdf/10.1002/asi.24122', 'content-type': 'unspecified', 'content-version': 'vor', 'intended-application': 'similarity-checking'}]\n",
      "[{'URL': 'https://api.wiley.com/onlinelibrary/tdm/v1/articles/10.1002%2Fasi.24076', 'content-type': 'application/pdf', 'content-version': 'vor', 'intended-application': 'text-mining'}, {'URL': 'https://onlinelibrary.wiley.com/doi/pdf/10.1002/asi.24076', 'content-type': 'application/pdf', 'content-version': 'vor', 'intended-application': 'text-mining'}, {'URL': 'https://onlinelibrary.wiley.com/doi/full-xml/10.1002/asi.24076', 'content-type': 'application/xml', 'content-version': 'vor', 'intended-application': 'text-mining'}, {'URL': 'https://onlinelibrary.wiley.com/doi/pdf/10.1002/asi.24076', 'content-type': 'unspecified', 'content-version': 'vor', 'intended-application': 'similarity-checking'}]\n",
      "[{'URL': 'https://api.wiley.com/onlinelibrary/tdm/v1/articles/10.1002%2Fasi.24124', 'content-type': 'application/pdf', 'content-version': 'vor', 'intended-application': 'text-mining'}, {'URL': 'https://onlinelibrary.wiley.com/doi/pdf/10.1002/asi.24124', 'content-type': 'application/pdf', 'content-version': 'vor', 'intended-application': 'text-mining'}, {'URL': 'https://onlinelibrary.wiley.com/doi/full-xml/10.1002/asi.24124', 'content-type': 'application/xml', 'content-version': 'vor', 'intended-application': 'text-mining'}, {'URL': 'https://onlinelibrary.wiley.com/doi/pdf/10.1002/asi.24124', 'content-type': 'unspecified', 'content-version': 'vor', 'intended-application': 'similarity-checking'}]\n",
      "[{'URL': 'https://api.wiley.com/onlinelibrary/tdm/v1/articles/10.1002%2Fasi.24117', 'content-type': 'application/pdf', 'content-version': 'vor', 'intended-application': 'text-mining'}, {'URL': 'https://onlinelibrary.wiley.com/doi/pdf/10.1002/asi.24117', 'content-type': 'application/pdf', 'content-version': 'vor', 'intended-application': 'text-mining'}, {'URL': 'https://onlinelibrary.wiley.com/doi/full-xml/10.1002/asi.24117', 'content-type': 'application/xml', 'content-version': 'vor', 'intended-application': 'text-mining'}, {'URL': 'https://onlinelibrary.wiley.com/doi/pdf/10.1002/asi.24117', 'content-type': 'unspecified', 'content-version': 'vor', 'intended-application': 'similarity-checking'}]\n",
      "[{'URL': 'https://api.wiley.com/onlinelibrary/tdm/v1/articles/10.1002%2Fasi.24121', 'content-type': 'application/pdf', 'content-version': 'vor', 'intended-application': 'text-mining'}, {'URL': 'https://onlinelibrary.wiley.com/doi/pdf/10.1002/asi.24121', 'content-type': 'application/pdf', 'content-version': 'vor', 'intended-application': 'text-mining'}, {'URL': 'https://onlinelibrary.wiley.com/doi/full-xml/10.1002/asi.24121', 'content-type': 'application/xml', 'content-version': 'vor', 'intended-application': 'text-mining'}, {'URL': 'https://onlinelibrary.wiley.com/doi/pdf/10.1002/asi.24121', 'content-type': 'unspecified', 'content-version': 'vor', 'intended-application': 'similarity-checking'}]\n",
      "[{'URL': 'https://api.wiley.com/onlinelibrary/tdm/v1/articles/10.1002%2Fasi.24125', 'content-type': 'application/pdf', 'content-version': 'vor', 'intended-application': 'text-mining'}, {'URL': 'https://onlinelibrary.wiley.com/doi/pdf/10.1002/asi.24125', 'content-type': 'application/pdf', 'content-version': 'vor', 'intended-application': 'text-mining'}, {'URL': 'https://onlinelibrary.wiley.com/doi/full-xml/10.1002/asi.24125', 'content-type': 'application/xml', 'content-version': 'vor', 'intended-application': 'text-mining'}, {'URL': 'https://onlinelibrary.wiley.com/doi/pdf/10.1002/asi.24125', 'content-type': 'unspecified', 'content-version': 'vor', 'intended-application': 'similarity-checking'}]\n",
      "[{'URL': 'https://api.wiley.com/onlinelibrary/tdm/v1/articles/10.1002%2Fasi.24139', 'content-type': 'application/pdf', 'content-version': 'vor', 'intended-application': 'text-mining'}, {'URL': 'https://onlinelibrary.wiley.com/doi/pdf/10.1002/asi.24139', 'content-type': 'application/pdf', 'content-version': 'vor', 'intended-application': 'text-mining'}, {'URL': 'https://onlinelibrary.wiley.com/doi/full-xml/10.1002/asi.24139', 'content-type': 'application/xml', 'content-version': 'vor', 'intended-application': 'text-mining'}, {'URL': 'https://onlinelibrary.wiley.com/doi/pdf/10.1002/asi.24139', 'content-type': 'unspecified', 'content-version': 'vor', 'intended-application': 'similarity-checking'}]\n"
     ]
    }
   ],
   "source": [
    "count = 0\n",
    "articles_count = 0\n",
    "my_list = []\n",
    "total_results = x[0]['message'].get('total-results')\n",
    "print('total results >>>>>>>>> ' , total_results)\n",
    "# print(x[0])\n",
    "for i in x[0]['message']['items']:\n",
    "#     my_list.append(i.get('link')[0])\n",
    "    print(i.get('link'))\n",
    "#     response_xml = i['link'][0]['URL']\n",
    "#     print(\"link[0]\", response_xml)\n",
    "#     response_xml = i['link'][1]['URL']\n",
    "#     print(\"link[1]\", response_xml)\n",
    "#     request=requests.get(i['link'][2]['URL'])\n",
    "#     if(request is not None):\n",
    "#         response_xml = i['link'][2]['URL']\n",
    "#         print(\"link[2]\", response_xml)\n",
    "#     response_plain = i['link'][3]['URL']\n",
    "#     print(\"link[3]\", response_plain)\n",
    "    # print(len(my_list))\n",
    "\n",
    "\n",
    "# while (articles_count < total_results):\n",
    "#     for i in x[count]['message']['items']:\n",
    "#         # get the title and remove any special characters, keep spaces\n",
    "#         # title = re.sub('[^A-Za-z0-9]+', '', str(x['message']['items'][count]['title'][0])[:85])\n",
    "#         title = re.sub('[^A-Za-z0-9]+', ' ', (i.get('title')[0]))\n",
    "#         articles_count += 1\n",
    "#         print(title)\n",
    "#         print(count)\n",
    "#         print(articles_count)\n",
    "#         total_articles = len(i.get('title')[0])\n",
    "#     count += 1\n",
    "# print(x[0]['message'].get('total-results'))\n",
    "# print ((x['message']).get('total-results'))"
   ]
  },
  {
   "cell_type": "code",
   "execution_count": null,
   "metadata": {},
   "outputs": [],
   "source": [
    "filename_xml = \"E:exported_data\\\\\" + \"TEST TEST TEST TEST TEST\" + \".xml\"\n",
    "with open((filename_xml), 'w+') as file:\n",
    "    # print(i['link'][1]['URL'])\n",
    "    file.write(\"TEST\")"
   ]
  },
  {
   "cell_type": "code",
   "execution_count": 65,
   "metadata": {},
   "outputs": [
    {
     "name": "stdout",
     "output_type": "stream",
     "text": [
      "total results >>>>>>>>>  0\n",
      "Extraction Completed.\n"
     ]
    }
   ],
   "source": [
    "# Use of CrossRef API\n",
    "# Author @CosminP\n",
    "\n",
    "import json\n",
    "import requests\n",
    "from crossref.restful import Works, Journals\n",
    "from habanero import Crossref\n",
    "import os.path\n",
    "import re\n",
    "\n",
    "\n",
    "works = Works()\n",
    "journals = Journals()\n",
    "cr = Crossref()\n",
    "\n",
    "# ISSN for JASIST -> issn=2330-1643\n",
    "# ISSN for JDOC -> issn=0022-0418\n",
    "# ISSN for LISR -> issn=0740-8188\n",
    "# x = cr.journals(ids = \"0740-8188\", works =True,\n",
    "#                 filter = {'has_full_text':True, 'type': 'journal-article', 'from-pub-date':'2008-01-01', 'until-pub-date':'2018-01-01'},\n",
    "#                 sort='issued',\n",
    "#                 cursor='*',\n",
    "#                 cursor_max=1000,\n",
    "#                 limit='200')\n",
    "# details of a doi\n",
    "# y = cn.content_negotiation(ids=\"10.1002/asi.24193\")\n",
    "# DONE SO FAR: (2008-01-01 -> 2010-01-01#,\n",
    "#                 '2010-01-01 -> 2012-01-01#,\n",
    "#                 2012-01-01 -> 2014-01-01#,\n",
    "#                 2014-01-01 -> 2016-01-01#,\n",
    "#                 2016-01-01 -> 2018-01-01#)\n",
    "\n",
    "x = cr.journals(ids = \"2330-1643\", works =True,\n",
    "                filter = {'has_full_text':True, 'type': 'journal-article',\n",
    "                          'from-pub-date':'2016-01-01', 'until-pub-date':'2019-01-01'},\n",
    "                sort='issued',\n",
    "                cursor='*',\n",
    "                limit=20)\n",
    "\n",
    "count = 0\n",
    "articles_count = 0\n",
    "my_list = []\n",
    "total_results = x[0]['message'].get('total-results')\n",
    "print('total results >>>>>>>>> ' , total_results)\n",
    "\n",
    "while (articles_count < total_results):\n",
    "    for i in x[count]['message']['items']:\n",
    "        # get the title and remove any special characters, keep spaces\n",
    "        # title = re.sub('[^A-Za-z0-9]+', '', str(x['message']['items'][count]['title'][0])[:85])\n",
    "        articles_count += 1\n",
    "        print(\"Article \", articles_count, \" out of \", total_results)\n",
    "        # print(title)\n",
    "        # print(count)\n",
    "        # print(articles_count)\n",
    "        total_articles = len(i.get('title')[0])\n",
    "\n",
    "        title = (re.sub('[^A-Za-z0-9]+', ' ', (i.get('title')[0]))[:85])\n",
    "        filename_xml = \"E:exported_data\\\\\" + title + \".xml\"\n",
    "        # filename_txt = \"E:exported_data\\\\\" + title + \".txt\"\n",
    "\n",
    "        # at index 0, the api returns nothing, so file 'empty' is just a placeholder\n",
    "        # if count == 0:\n",
    "        #     filename_txt = \"empty\"\n",
    "        #     filename_xml = \"empty\"\n",
    "\n",
    "        response_xml = requests.get(i['link'][2]['URL'])\n",
    "        # response_plain = requests.get((i['link'][1]['URL']) + '&apiKey=e873ab508be6a1e93c4ba6217c155ad4')\n",
    "\n",
    "        # save the content from the xml link into a .xml file\n",
    "        with open((filename_xml), 'wb+') as file:\n",
    "            if (response_xml.ok):\n",
    "                # print(i['link'][1]['URL'])\n",
    "                file.write(response_xml.content)\n",
    "        # save the content from the text/plain link into a .txt file\n",
    "        # with open((filename_txt), 'wb') as file:\n",
    "        #     if (response_plain.ok):\n",
    "        #         # print(i['link'][1]['URL'])\n",
    "        #         file.write(response_plain.content)\n",
    "    count += 1\n",
    "print(\"Extraction Completed.\")\n"
   ]
  },
  {
   "cell_type": "code",
   "execution_count": 58,
   "metadata": {},
   "outputs": [
    {
     "name": "stdout",
     "output_type": "stream",
     "text": [
      "b' '\n"
     ]
    }
   ],
   "source": [
    "cont = 'https://api.wiley.com/onlinelibrary/tdm/v1/articles/10.1002%2Fasi.24139'\n",
    "req = requests.get(cont)\n",
    "print(req.content)"
   ]
  },
  {
   "cell_type": "code",
   "execution_count": null,
   "metadata": {},
   "outputs": [],
   "source": []
  }
 ],
 "metadata": {
  "kernelspec": {
   "display_name": "Python 3",
   "language": "python",
   "name": "python3"
  },
  "language_info": {
   "codemirror_mode": {
    "name": "ipython",
    "version": 3
   },
   "file_extension": ".py",
   "mimetype": "text/x-python",
   "name": "python",
   "nbconvert_exporter": "python",
   "pygments_lexer": "ipython3",
   "version": "3.7.0"
  }
 },
 "nbformat": 4,
 "nbformat_minor": 2
}
